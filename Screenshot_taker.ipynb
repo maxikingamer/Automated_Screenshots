{
 "cells": [
  {
   "cell_type": "code",
   "execution_count": 1,
   "metadata": {},
   "outputs": [],
   "source": [
    "import PIL.ImageGrab\n",
    "import time\n",
    "import numpy as np\n",
    "from PIL import Image, ImageChops\n",
    "import os\n",
    "from pptx import Presentation\n",
    "from pptx.util import Inches\n",
    "from natsort import natsorted\n",
    "import comtypes.client"
   ]
  },
  {
   "cell_type": "code",
   "execution_count": 2,
   "metadata": {},
   "outputs": [],
   "source": [
    "number_frame = (2550,1480,2650,1520)\n",
    "slide_frame = (1050,260,2700,1580)"
   ]
  },
  {
   "cell_type": "code",
   "execution_count": 4,
   "metadata": {},
   "outputs": [
    {
     "name": "stdout",
     "output_type": "stream",
     "text": [
      "Insert maximal length of the Video (in minutes): \n"
     ]
    },
    {
     "name": "stdin",
     "output_type": "stream",
     "text": [
      " 2\n"
     ]
    },
    {
     "name": "stdout",
     "output_type": "stream",
     "text": [
      "Insert maximal amount of slides: \n"
     ]
    },
    {
     "name": "stdin",
     "output_type": "stream",
     "text": [
      " 20\n"
     ]
    }
   ],
   "source": [
    "print('Insert maximal length of the Video (in minutes): ')\n",
    "length = int(input())\n",
    "print('Insert maximal amount of slides: ')\n",
    "max_slides = int(input())"
   ]
  },
  {
   "cell_type": "code",
   "execution_count": 5,
   "metadata": {},
   "outputs": [],
   "source": [
    "entries = natsorted(os.listdir('Slides/'))\n",
    "for entry in entries:\n",
    "    name = 'Slides/' + entry\n",
    "    os.remove(name)"
   ]
  },
  {
   "cell_type": "code",
   "execution_count": 6,
   "metadata": {},
   "outputs": [
    {
     "name": "stdout",
     "output_type": "stream",
     "text": [
      "Finished observation because of time!\n"
     ]
    }
   ],
   "source": [
    "time.sleep(30)\n",
    "\n",
    "start_time = time.time()\n",
    "\n",
    "latest = PIL.ImageGrab.grab(slide_frame)\n",
    "first_slide = PIL.ImageGrab.grab(slide_frame)\n",
    "first_slide.save(\"Slides/slide1.png\")\n",
    "\n",
    "\n",
    "i = 2\n",
    "while True:\n",
    "    current_time = time.time()\n",
    "    elapsed_time = current_time - start_time\n",
    "    \n",
    "    if(elapsed_time > (length*60)):\n",
    "        print('Finished observation because of time!')\n",
    "        break\n",
    "    \n",
    "    current = PIL.ImageGrab.grab(slide_frame)\n",
    "    #current_array = np.array(current)\n",
    "    #latest_array = np.array(latest)\n",
    "    #diff = current_array - latest_array\n",
    "    \n",
    "    diff = ImageChops.difference(latest, current)\n",
    "    diff = np.array(diff)\n",
    "    \n",
    "    if(diff.mean()>5):\n",
    "        name = \"Slides/slide\" +str(i) +\".png\"\n",
    "        i=i+1\n",
    "        current.save(name)\n",
    "        latest = current\n",
    "    \n",
    "    if(i>max_slides):\n",
    "        print('Finished observation because of amount of slides!')\n",
    "        break\n",
    "    \n",
    "    time.sleep(0.5)\n",
    "    \n"
   ]
  },
  {
   "cell_type": "code",
   "execution_count": 7,
   "metadata": {},
   "outputs": [
    {
     "name": "stdout",
     "output_type": "stream",
     "text": [
      "Deleting now Doublications!\n"
     ]
    }
   ],
   "source": [
    "print('Deleting now Doublications!')\n",
    "entries = natsorted(os.listdir('Slides/'))"
   ]
  },
  {
   "cell_type": "code",
   "execution_count": 8,
   "metadata": {},
   "outputs": [],
   "source": [
    "slides = []\n",
    "for entry in entries:\n",
    "    name = 'Slides/' + entry\n",
    "    image = Image.open(name)\n",
    "    unique = True\n",
    "\n",
    "    if(len(slides)>0):\n",
    "        for slide in slides:\n",
    "            diff = ImageChops.difference(slide,image)\n",
    "            diff = np.array(diff)\n",
    "            \n",
    "            if(diff.mean()<5):\n",
    "                os.remove(name)\n",
    "                unique = False\n",
    "                print('Deleted picture: ' +name)\n",
    "                break\n",
    "\n",
    "        if(unique==True):\n",
    "            slides.append(image)\n",
    "\n",
    "    else:\n",
    "        slides.append(image)"
   ]
  },
  {
   "cell_type": "code",
   "execution_count": 9,
   "metadata": {},
   "outputs": [
    {
     "name": "stdout",
     "output_type": "stream",
     "text": [
      "Creating the PowerPoint now!\n"
     ]
    }
   ],
   "source": [
    "print(\"Creating the PowerPoint now!\")"
   ]
  },
  {
   "cell_type": "code",
   "execution_count": 2,
   "metadata": {},
   "outputs": [],
   "source": [
    "entries = natsorted(os.listdir('Slides/'))\n",
    "prs = Presentation()"
   ]
  },
  {
   "cell_type": "code",
   "execution_count": 3,
   "metadata": {},
   "outputs": [],
   "source": [
    "for entry in entries:\n",
    "    blank_slide_layout = prs.slide_layouts[6]\n",
    "    slide = prs.slides.add_slide(blank_slide_layout)\n",
    "    left=Inches(0)\n",
    "    top=Inches(0)\n",
    "    name = 'Slides/' + entry\n",
    "    img=slide.shapes.add_picture(name, Inches(0), Inches(0),\n",
    "                               width= Inches(10), height= Inches(7))"
   ]
  },
  {
   "cell_type": "code",
   "execution_count": 4,
   "metadata": {},
   "outputs": [],
   "source": [
    "prs.save(\"AllSlides.pptx\") # saving file"
   ]
  },
  {
   "cell_type": "code",
   "execution_count": 13,
   "metadata": {},
   "outputs": [],
   "source": [
    "def PPTtoPDF(inputFileName, outputFileName, formatType = 32):\n",
    "    powerpoint = comtypes.client.CreateObject(\"Powerpoint.Application\")\n",
    "    powerpoint.Visible = 1\n",
    "\n",
    "    if outputFileName[-3:] != 'pdf':\n",
    "        outputFileName = outputFileName + \".pdf\"\n",
    "    deck = powerpoint.Presentations.Open(inputFileName)\n",
    "    deck.SaveAs(outputFileName, formatType) # formatType = 32 for ppt to pdf\n",
    "    deck.Close()\n",
    "    powerpoint.Quit()"
   ]
  },
  {
   "cell_type": "code",
   "execution_count": 15,
   "metadata": {},
   "outputs": [
    {
     "name": "stdout",
     "output_type": "stream",
     "text": [
      "Procedure Finished!\n"
     ]
    }
   ],
   "source": [
    "print('Procedure Finished!')"
   ]
  },
  {
   "cell_type": "code",
   "execution_count": null,
   "metadata": {},
   "outputs": [],
   "source": []
  }
 ],
 "metadata": {
  "kernelspec": {
   "display_name": "Python 3",
   "language": "python",
   "name": "python3"
  },
  "language_info": {
   "codemirror_mode": {
    "name": "ipython",
    "version": 3
   },
   "file_extension": ".py",
   "mimetype": "text/x-python",
   "name": "python",
   "nbconvert_exporter": "python",
   "pygments_lexer": "ipython3",
   "version": "3.8.3"
  }
 },
 "nbformat": 4,
 "nbformat_minor": 4
}
